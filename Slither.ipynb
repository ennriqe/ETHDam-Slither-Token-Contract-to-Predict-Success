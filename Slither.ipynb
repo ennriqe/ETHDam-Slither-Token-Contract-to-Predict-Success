{
 "cells": [
  {
   "cell_type": "code",
   "execution_count": 4,
   "metadata": {},
   "outputs": [],
   "source": [
    "from slither import Slither\n",
    "\n",
    "# Disable SSL certificate verification\n",
    "# Create a Slither instance assuming the smart contract code is verified on Etherscan\n",
    "\n",
    "sl = Slither('0xdac17f958d2ee523a2206206994597c13d831ec7')\n"
   ]
  },
  {
   "cell_type": "code",
   "execution_count": 160,
   "metadata": {},
   "outputs": [
    {
     "name": "stdout",
     "output_type": "stream",
     "text": [
      "252\n"
     ]
    }
   ],
   "source": [
    "import sqlite3\n",
    "import pandas as pd\n",
    "connection = sqlite3.connect('contracts_found.db')\n",
    "\n",
    "# SQL query\n",
    "query = \"SELECT * FROM contracts_found\"\n",
    "\n",
    "# Reading the SQL query into a DataFrame\n",
    "contracts_found = pd.read_sql_query(query, connection)\n",
    "print(len(contracts_found))\n"
   ]
  },
  {
   "cell_type": "code",
   "execution_count": 73,
   "metadata": {},
   "outputs": [
    {
     "name": "stdout",
     "output_type": "stream",
     "text": [
      "0xfe9E45b7085eEb64D95903d3972c3712Af510d35\n",
      "1\n",
      "0x9C9747FCC731f8B665BeC6f0467C88604d671Ac9\n",
      "1\n"
     ]
    }
   ],
   "source": [
    "for i in range(len(contracts_found)):\n",
    "    if contracts_found.loc[i, 'success'] ==1:\n",
    "        continue\n",
    "    if 'Unknown language: unknown' in str(contracts_found.loc[i, 'error']):\n",
    "        continue\n",
    "        \n",
    "    import time\n",
    "    time.sleep(3)\n",
    "    try:\n",
    "                \n",
    "        contract_address = contracts_found['Contract'][i]\n",
    "        print(contract_address)\n",
    "        sl = Slither(contract_address)\n",
    "        contracts_found.loc[i, 'success'] = 1\n",
    "        print(1)\n",
    "    except Exception as e:\n",
    "        print(e)\n",
    "        \n",
    "        contracts_found.loc[i, 'success'] = 0\n",
    "        contracts_found.loc[i, 'error'] = e"
   ]
  },
  {
   "cell_type": "code",
   "execution_count": null,
   "metadata": {},
   "outputs": [],
   "source": [
    "verified_contracts = contracts_found[contracts_found['success'] ==1]\n",
    "verified_contracts"
   ]
  },
  {
   "cell_type": "code",
   "execution_count": 85,
   "metadata": {},
   "outputs": [
    {
     "data": {
      "text/plain": [
       "success\n",
       "0.0    18\n",
       "1.0    15\n",
       "Name: count, dtype: int64"
      ]
     },
     "execution_count": 85,
     "metadata": {},
     "output_type": "execute_result"
    }
   ],
   "source": [
    "contracts_found[contracts_found.error.astype(str) !='Unknown language: unknown'].success.value_counts()"
   ]
  },
  {
   "cell_type": "code",
   "execution_count": 33,
   "metadata": {},
   "outputs": [
    {
     "name": "stdout",
     "output_type": "stream",
     "text": [
      "['IERC20', 'Context', 'Ownable', 'SafeMath', 'BaseToken', 'StandardToken']\n",
      "['SafeMath', 'StandardToken']\n"
     ]
    }
   ],
   "source": [
    "compilation_unit = sl.compilation_units[0]\n",
    "# Print all the contracts from the USDT address\n",
    "print([str(c) for c in compilation_unit.contracts])\n",
    "# Print the most derived contracts from the USDT address\n",
    "print([str(c) for c in compilation_unit.contracts_derived])"
   ]
  },
  {
   "cell_type": "code",
   "execution_count": 150,
   "metadata": {},
   "outputs": [
    {
     "data": {
      "text/plain": [
       "'0xb8D44feCbAC44eA6Ea25D5480e0a902548870ed1'"
      ]
     },
     "execution_count": 150,
     "metadata": {},
     "output_type": "execute_result"
    }
   ],
   "source": [
    "contracts_found[contracts_found['success'] ==1]['Contract'].values[3]"
   ]
  },
  {
   "cell_type": "code",
   "execution_count": 157,
   "metadata": {},
   "outputs": [
    {
     "name": "stdout",
     "output_type": "stream",
     "text": [
      "{'data': {'ethereum': {'dexTrades': [{'timeInterval': {'minute': '2024-03-01 01:30:00'}, 'buyCurrency': {'symbol': 'KSH', 'address': '0x625933f04eb04f33ac489c952854165c7cc4a2fd'}, 'buyAmount': 18740000.0, 'sellCurrency': {'symbol': 'WETH', 'address': '0xc02aaa39b223fe8d0a0e5c4f27ead9083c756cc2'}, 'sellAmount': 4.6320893331763076, 'trades': 4, 'maximum_price': 3.730063280229647e-07, 'minimum_price': 2.2404979889129066e-07, 'open_price': '2.4477729989881927e-07', 'close_price': '2.2404979889129066e-07'}, {'timeInterval': {'minute': '2024-03-01 01:35:00'}, 'buyCurrency': {'symbol': 'KSH', 'address': '0x625933f04eb04f33ac489c952854165c7cc4a2fd'}, 'buyAmount': 10602499.999999998, 'sellCurrency': {'symbol': 'WETH', 'address': '0xc02aaa39b223fe8d0a0e5c4f27ead9083c756cc2'}, 'sellAmount': 2.4497534662918223, 'trades': 4, 'maximum_price': 3.3220040407193227e-07, 'minimum_price': 1.9833629905508958e-07, 'open_price': '2.2257646929567424e-07', 'close_price': '2.08474824684788e-07'}, {'timeInterval': {'minute': '2024-03-01 01:40:00'}, 'buyCurrency': {'symbol': 'KSH', 'address': '0x625933f04eb04f33ac489c952854165c7cc4a2fd'}, 'buyAmount': 1874688.2045680948, 'sellCurrency': {'symbol': 'WETH', 'address': '0xc02aaa39b223fe8d0a0e5c4f27ead9083c756cc2'}, 'sellAmount': 0.38092804055798624, 'trades': 2, 'maximum_price': 2.10296767208132e-07, 'minimum_price': 1.9507668270673529e-07, 'open_price': '1.9507668270673529e-07', 'close_price': '1.9507668270673529e-07'}, {'timeInterval': {'minute': '2024-03-01 01:45:00'}, 'buyCurrency': {'symbol': 'KSH', 'address': '0x625933f04eb04f33ac489c952854165c7cc4a2fd'}, 'buyAmount': 1560458.8982134627, 'sellCurrency': {'symbol': 'WETH', 'address': '0xc02aaa39b223fe8d0a0e5c4f27ead9083c756cc2'}, 'sellAmount': 0.3009772302663921, 'trades': 2, 'maximum_price': 1.9706173954699204e-07, 'minimum_price': 1.8541143882387186e-07, 'open_price': '1.9706173954699204e-07', 'close_price': '1.9706173954699204e-07'}, {'timeInterval': {'minute': '2024-03-01 02:50:00'}, 'buyCurrency': {'symbol': 'KSH', 'address': '0x625933f04eb04f33ac489c952854165c7cc4a2fd'}, 'buyAmount': 1435601.541736107, 'sellCurrency': {'symbol': 'WETH', 'address': '0xc02aaa39b223fe8d0a0e5c4f27ead9083c756cc2'}, 'sellAmount': 0.4132143194604579, 'trades': 2, 'maximum_price': 2.9373120073493987e-07, 'minimum_price': 2.7429452671198827e-07, 'open_price': '2.7429452671198827e-07', 'close_price': '2.7429452671198827e-07'}, {'timeInterval': {'minute': '2024-03-01 03:10:00'}, 'buyCurrency': {'symbol': 'KSH', 'address': '0x625933f04eb04f33ac489c952854165c7cc4a2fd'}, 'buyAmount': 9370000.0, 'sellCurrency': {'symbol': 'WETH', 'address': '0xc02aaa39b223fe8d0a0e5c4f27ead9083c756cc2'}, 'sellAmount': 1.863034118925572, 'trades': 2, 'maximum_price': 2.7441429303701025e-07, 'minimum_price': 1.8979926235227737e-07, 'open_price': '2.7441429303701025e-07', 'close_price': '2.7441429303701025e-07'}, {'timeInterval': {'minute': '2024-03-01 06:10:00'}, 'buyCurrency': {'symbol': 'KSH', 'address': '0x625933f04eb04f33ac489c952854165c7cc4a2fd'}, 'buyAmount': 1516479.8539125496, 'sellCurrency': {'symbol': 'WETH', 'address': '0xc02aaa39b223fe8d0a0e5c4f27ead9083c756cc2'}, 'sellAmount': 0.41822636606967084, 'trades': 2, 'maximum_price': 2.823513721054422e-07, 'minimum_price': 2.6307898156127305e-07, 'open_price': '2.6307898156127305e-07', 'close_price': '2.6307898156127305e-07'}, {'timeInterval': {'minute': '2024-03-01 07:35:00'}, 'buyCurrency': {'symbol': 'KSH', 'address': '0x625933f04eb04f33ac489c952854165c7cc4a2fd'}, 'buyAmount': 2116000.0, 'sellCurrency': {'symbol': 'WETH', 'address': '0xc02aaa39b223fe8d0a0e5c4f27ead9083c756cc2'}, 'sellAmount': 0.51692384249173, 'trades': 2, 'maximum_price': 2.562670958221323e-07, 'minimum_price': 2.335633930731162e-07, 'open_price': '2.562670958221323e-07', 'close_price': '2.562670958221323e-07'}, {'timeInterval': {'minute': '2024-03-01 08:05:00'}, 'buyCurrency': {'symbol': 'KSH', 'address': '0x625933f04eb04f33ac489c952854165c7cc4a2fd'}, 'buyAmount': 1885606.7264520945, 'sellCurrency': {'symbol': 'WETH', 'address': '0xc02aaa39b223fe8d0a0e5c4f27ead9083c756cc2'}, 'sellAmount': 0.47456199827047896, 'trades': 2, 'maximum_price': 2.6156255200202114e-07, 'minimum_price': 2.405124531085861e-07, 'open_price': '2.405124531085861e-07', 'close_price': '2.405124531085861e-07'}, {'timeInterval': {'minute': '2024-03-01 08:10:00'}, 'buyCurrency': {'symbol': 'KSH', 'address': '0x625933f04eb04f33ac489c952854165c7cc4a2fd'}, 'buyAmount': 1475286.598008661, 'sellCurrency': {'symbol': 'WETH', 'address': '0xc02aaa39b223fe8d0a0e5c4f27ead9083c756cc2'}, 'sellAmount': 0.32119338020171834, 'trades': 2, 'maximum_price': 2.2195292880030712e-07, 'minimum_price': 2.0880128288322302e-07, 'open_price': '2.2195292880030712e-07', 'close_price': '2.2195292880030712e-07'}]}}}\n"
     ]
    }
   ],
   "source": [
    "# Your GraphQL query\n",
    "api_key = 'BQY9GqLL6xadbpKY3trQHUOtvWs6HXUB'\n",
    "import requests\n",
    "query = \"\"\"\n",
    "{\n",
    "  ethereum(network: ethereum) {\n",
    "        dexTrades(options: {limit: 10, asc: \"timeInterval.minute\"}, \n",
    "        protocol: {is: \"Uniswap v2\"}, \n",
    "        date: { after: \"2023-07-17T00:00:00Z\" }\n",
    "        buyCurrency: {is: \"0x625933f04eb04f33Ac489c952854165C7cc4A2fd\"}, \n",
    "        sellCurrency: {is: \"0xc02aaa39b223fe8d0a0e5c4f27ead9083c756cc2\"}) {\n",
    "            timeInterval {\n",
    "                minute(count: 5)\n",
    "            }\n",
    "            buyCurrency {\n",
    "                symbol\n",
    "                address\n",
    "            }\n",
    "            buyAmount\n",
    "            sellCurrency {\n",
    "                symbol\n",
    "                address\n",
    "            }\n",
    "            sellAmount\n",
    "            trades: count\n",
    "            maximum_price: price(calculate: maximum)\n",
    "            minimum_price: price(calculate: minimum)\n",
    "            open_price: minimum(of: block, get: price)\n",
    "            close_price: maximum(of: block, get: price)\n",
    "        }\n",
    "    }\n",
    "}\n",
    "\"\"\"\n",
    "\n",
    "# Headers including your API key\n",
    "headers = {\n",
    "    'Content-Type': 'application/json',\n",
    "    'X-API-KEY': api_key\n",
    "}\n",
    "\n",
    "# Make the POST request\n",
    "response = requests.post(url, json={'query': query}, headers=headers)\n",
    "\n",
    "# Check the response\n",
    "if response.status_code == 200:\n",
    "    try:\n",
    "        print(response.json())\n",
    "    except ValueError:\n",
    "        print(\"Failed to decode JSON from response:\", response.text)\n",
    "else:\n",
    "    print(\"Failed to retrieve data:\", response.status_code, response.text)"
   ]
  },
  {
   "cell_type": "code",
   "execution_count": 10,
   "metadata": {},
   "outputs": [],
   "source": [
    "from web3 import Web3\n",
    "\n",
    "# Connect to an Ethereum node (this should be your node or a service like Infura)\n",
    "\n",
    "\n",
    "def get_supply(contract_address):\n",
    "    web3 = Web3(Web3.HTTPProvider('https://eth.llamarpc.com'))\n",
    "    contract_abi = '''\n",
    "    [\n",
    "        {\n",
    "            \"constant\":true,\n",
    "            \"inputs\":[],\n",
    "            \"name\":\"totalSupply\",\n",
    "            \"outputs\":[{\"name\":\"\",\"type\":\"uint256\"}],\n",
    "            \"payable\":false,\n",
    "            \"stateMutability\":\"view\",\n",
    "            \"type\":\"function\"\n",
    "        }\n",
    "    ]\n",
    "    '''\n",
    "\n",
    "    # Create the contract instance\n",
    "    contract = web3.eth.contract(address=contract_address, abi=contract_abi)\n",
    "\n",
    "    # Call the totalSupply function\n",
    "    total_supply = contract.functions.totalSupply().call()\n",
    "\n",
    "    # Convert to a human-readable format (assuming the token uses 18 decimal places)\n",
    "    total_supply_readable = total_supply / 10**18\n",
    "\n",
    "    print(\"Total Supply:\", total_supply_readable)\n",
    "    return total_supply_readable"
   ]
  }
 ],
 "metadata": {
  "kernelspec": {
   "display_name": "Python 3",
   "language": "python",
   "name": "python3"
  },
  "language_info": {
   "codemirror_mode": {
    "name": "ipython",
    "version": 3
   },
   "file_extension": ".py",
   "mimetype": "text/x-python",
   "name": "python",
   "nbconvert_exporter": "python",
   "pygments_lexer": "ipython3",
   "version": "3.12.2"
  }
 },
 "nbformat": 4,
 "nbformat_minor": 2
}
